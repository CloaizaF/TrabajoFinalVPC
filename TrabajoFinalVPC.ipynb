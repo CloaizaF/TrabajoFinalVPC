{
  "nbformat": 4,
  "nbformat_minor": 0,
  "metadata": {
    "colab": {
      "provenance": []
    },
    "kernelspec": {
      "name": "python3",
      "display_name": "Python 3"
    },
    "language_info": {
      "name": "python"
    }
  },
  "cells": [
    {
      "cell_type": "markdown",
      "source": [
        "---\n",
        "**<h1><center> </center></h1>**\n",
        "\n",
        "**<h1><center> Proyecto: Clasificación de cáncer de piel </center></h1>**\n",
        "\n",
        "**<h2><center> [tipos] </center></h2>**\n",
        "\n",
        "**<h2><center> Visión Por Computador - 2024-2</center></h2>**\n",
        "\n",
        "<center><img src=\"https://upload.wikimedia.org/wikipedia/commons/c/c4/Escudo_unal_2016.png\" width=\"100\"></center>\n",
        "\n",
        "---\n",
        "\n",
        "\n",
        "<h1> Integrantes: </h1>\n",
        "\n",
        "* Camilo Loaiza Fonnegra: cloaiza@unal.edu.co\n",
        "\n",
        "* Luis Santiago Maya Restrepo: lmayar@unal.edu.co\n",
        "\n",
        "* Jhon Sebastián Sepúlveda Nomesque: jsepulvedan@unal.edu.co\n",
        "\n",
        "* Luis Alexander Torres Aguirre: luatorresag@unal.edu.co\n",
        "\n",
        "* Andrés Felipe Zapata Osorio: anzapatao@unal.edu.co\n"
      ],
      "metadata": {
        "id": "M9bIOWNSUQO8"
      }
    },
    {
      "cell_type": "markdown",
      "source": [
        "# Descripción del Trabajo"
      ],
      "metadata": {
        "id": "D_uR_V69U9LU"
      }
    },
    {
      "cell_type": "markdown",
      "source": [
        "#Descripción del Dataset"
      ],
      "metadata": {
        "id": "YK4BVJwDUxdY"
      }
    },
    {
      "cell_type": "code",
      "execution_count": null,
      "metadata": {
        "id": "oNrmwx72UKOm"
      },
      "outputs": [],
      "source": []
    },
    {
      "cell_type": "markdown",
      "source": [
        "## Visualización de las Imágenes"
      ],
      "metadata": {
        "id": "DbbYcQNRU6BG"
      }
    },
    {
      "cell_type": "code",
      "source": [],
      "metadata": {
        "id": "83uy47p2VQSC"
      },
      "execution_count": null,
      "outputs": []
    },
    {
      "cell_type": "markdown",
      "source": [
        "## Análisis de Ruido en las Imágenes"
      ],
      "metadata": {
        "id": "4n0NqBZIVPLg"
      }
    },
    {
      "cell_type": "code",
      "source": [],
      "metadata": {
        "id": "e4w0ONPOVYBH"
      },
      "execution_count": null,
      "outputs": []
    },
    {
      "cell_type": "markdown",
      "source": [
        "## Análisis de Modelo de Color"
      ],
      "metadata": {
        "id": "75NevtMhVYbP"
      }
    },
    {
      "cell_type": "code",
      "source": [],
      "metadata": {
        "id": "ytn01t18VcXX"
      },
      "execution_count": null,
      "outputs": []
    },
    {
      "cell_type": "markdown",
      "source": [
        "## Histogramas"
      ],
      "metadata": {
        "id": "RDSINNCeVdMs"
      }
    },
    {
      "cell_type": "code",
      "source": [],
      "metadata": {
        "id": "wa_bXZGLVgSQ"
      },
      "execution_count": null,
      "outputs": []
    }
  ]
}